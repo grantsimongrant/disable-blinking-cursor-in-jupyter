{
 "cells": [
  {
   "cell_type": "code",
   "execution_count": 8,
   "metadata": {},
   "outputs": [
    {
     "data": {
      "application/javascript": [
       "CodeMirror.defaults.cursorBlinkRate=0\n"
      ],
      "text/plain": [
       "<IPython.core.display.Javascript object>"
      ]
     },
     "metadata": {},
     "output_type": "display_data"
    }
   ],
   "source": [
    "%%javascript\n",
    "CodeMirror.defaults.cursorBlinkRate=0"
   ]
  },
  {
   "cell_type": "markdown",
   "id": "7b613d04",
   "metadata": {},
   "source": [
    "disable blinking in the IPython Notebook\n",
    "-----------------\n",
    "*Background: Text editing in the [IPython Notebook](http://ipython.org/notebook.html) is provided by an excellent JavaScript-based [CodeMirror](http://codemirror.net/) text editor. This might be more detail than you want, but I'm a [vision scientist](http://vision.berkeley.edu/?p=2120) so I hope you'll indulge me. If you want to leave a comment, or see what else I've written, [go to the blogpost version](http://pirsquared.org/blog/notebook-blink.html)*\n",
    "\n",
    "The cursor is meant to tell the user the current location.\n",
    "\n",
    "The human visual system has a pre-cortical lag of roughly 50-90 ms after ([read more about P1][1]). \n",
    "\n",
    "That's how long it takes from something changing on the screen to cause an avalanche of photons to barrel towards your eyeball, be phototransduced and processed by several stages of cells in the retina, finally causing retinal ganglion cells to fire an action potential down their axons through the optic nerve, make its way to a processing relay station called the LGN, with those cells firing action potential down *their* axons, with those spikes finally ending up in the primary visual cortex. \n",
    "\n",
    "By ~150 ms, our brains have processed the visual input enough to [perform a non-trivial ammount of object recognition][2].\n",
    "   \n",
    "[1]: http://en.wikipedia.org/wiki/C1_%26_P1_(Neuroscience)\n",
    "[2]: http://www.ncbi.nlm.nih.gov/pubmed/8632824\n",
    "\n",
    "The default blink rate for CodeMirror is 530ms. \n",
    "\n",
    "That's **as slow as molasses in January!**\n",
    "\n",
    "Say that I've been distracted and looked away from the screen. When I look back at the scree, half of the time it will take **3 times longer** for me to get the information that I want (\"where's my cursor\") than if that cursor was clearly visible at all times. Now it's not always that bad, because sometimes my gaze will land on the screen and even though the cursor isn't visible, it appears in a few milliseconds, and so it takes **just as long** as if the cursor was there the whole time. But if I happen to be particularly unlucky (there's a reason I don't gamble), it can take **6 times longer**.\n",
    "\n",
    "## Try it out\n",
    "\n",
    "Here's the bit of JavaScript code you need to disable blinking in CodeMirror.\n",
    "\n",
    "    CodeMirror.defaults.cursorBlinkRate=0\n",
    "\n",
    "If you type that into the JavaScript console of your webbrowser, that setting will apply to all cells created in the current IPython Notebook. If you don't know how to open your browser's Javascript console, don't frett, just make a new cell with just the following lines in there, execute it, and make a new cell to see how you like it.\n",
    "\n",
    "    %%javascript\n",
    "    CodeMirror.defaults.cursorBlinkRate=0\n",
    "\n",
    "## Make the change stick\n",
    "\n",
    "IPython has a notion of profiles to allow for different kinds of configurations. If this is news to you, you've probably just been using the `default` profile and not known it. In the shell, run the ``ipython profile create`` command to be sure (don't worry, if you alreay have a profile, this won't overwrite it). Now ``ipython locate profile`` will tell you the directory which contains all of the configuration for the `default` profile."
   ]
  },
  {
   "cell_type": "code",
   "execution_count": 1,
   "id": "e6b77ef5",
   "metadata": {},
   "outputs": [],
   "source": [
    "!ipython profile create"
   ]
  },
  {
   "cell_type": "code",
   "execution_count": 2,
   "id": "7c290e29",
   "metadata": {},
   "outputs": [
    {
     "name": "stdout",
     "output_type": "stream",
     "text": [
      "C:\\Users\\grant\\.ipython\\profile_default\n"
     ]
    }
   ],
   "source": [
    "!ipython locate profile"
   ]
  },
  {
   "cell_type": "code",
   "execution_count": 3,
   "id": "f166f0d6",
   "metadata": {},
   "outputs": [],
   "source": [
    "x = !ipython locate profile\n"
   ]
  },
  {
   "cell_type": "code",
   "execution_count": 4,
   "id": "d417b26f",
   "metadata": {},
   "outputs": [
    {
     "name": "stdout",
     "output_type": "stream",
     "text": [
      "C:\\Users\\grant\\.ipython\\profile_default\n"
     ]
    }
   ],
   "source": [
    "cd $x.s"
   ]
  },
  {
   "cell_type": "code",
   "execution_count": 5,
   "id": "21628d92",
   "metadata": {},
   "outputs": [
    {
     "name": "stdout",
     "output_type": "stream",
     "text": [
      " 驱动器 C 中的卷是 系统\n",
      " 卷的序列号是 DECE-BB5C\n",
      "\n",
      " C:\\Users\\grant\\.ipython\\profile_default 的目录\n",
      "\n",
      "2022/11/28  19:39    <DIR>          .\n",
      "2022/11/28  19:39    <DIR>          ..\n",
      "2022/11/28  19:10                42 custom.js\n",
      "2022/11/28  19:09    <DIR>          db\n",
      "2022/11/28  19:39         2,519,040 history.sqlite\n",
      "2022/11/28  19:08            41,007 ipython_config.py\n",
      "2022/11/28  19:08            35,233 ipython_kernel_config.py\n",
      "2021/06/19  11:33    <DIR>          log\n",
      "2021/06/19  11:33    <DIR>          pid\n",
      "2021/06/19  11:33    <DIR>          security\n",
      "2021/06/19  11:33    <DIR>          startup\n",
      "               4 个文件      2,595,322 字节\n",
      "               7 个目录 13,489,532,928 可用字节\n"
     ]
    }
   ],
   "source": [
    "ls"
   ]
  },
  {
   "cell_type": "markdown",
   "id": "6f18b27c",
   "metadata": {},
   "source": [
    "There's a lot of stuff there, but we just need to add our one line to the end of the file in\n",
    "`static/custom/custom.js`"
   ]
  },
  {
   "cell_type": "code",
   "execution_count": 6,
   "id": "5b01db73",
   "metadata": {},
   "outputs": [
    {
     "name": "stdout",
     "output_type": "stream",
     "text": [
      "[WinError 3] 系统找不到指定的路径。: 'static/custom/'\n",
      "C:\\Users\\grant\\.ipython\\profile_default\n"
     ]
    }
   ],
   "source": [
    "cd static/custom/"
   ]
  },
  {
   "cell_type": "code",
   "execution_count": 7,
   "id": "1aa2fda6",
   "metadata": {},
   "outputs": [
    {
     "name": "stdout",
     "output_type": "stream",
     "text": [
      "\u001b[0m\u001b[00;38;5;244mcustom.css\u001b[0m  \u001b[00;38;5;244mcustom.js\u001b[0m\r\n"
     ]
    }
   ],
   "source": [
    "ls"
   ]
  },
  {
   "cell_type": "code",
   "execution_count": 8,
   "id": "a31e3a67",
   "metadata": {},
   "outputs": [],
   "source": [
    "!echo \"CodeMirror.defaults.cursorBlinkRate=0\" >> custom.js"
   ]
  },
  {
   "cell_type": "markdown",
   "id": "6fc4c2a5",
   "metadata": {},
   "source": [
    "## \"I want it all and I want it now!\"\n",
    "\n",
    "You say you don't want save your current notebook and reload it to get the updated CodeMirror settings? You just want all cells in the current notebook to change their behavior? Well, OK, Freddie:\n",
    "   \n"
   ]
  },
  {
   "cell_type": "code",
   "execution_count": 9,
   "id": "c407bd37",
   "metadata": {},
   "outputs": [
    {
     "data": {
      "application/javascript": [
       "var rate = 0;\n",
       "// apply setting to  all current CodeMirror instances\n",
       "IPython.notebook.get_cells().map(\n",
       "    function(c) {  return c.code_mirror.options.cursorBlinkRate=rate;  }\n",
       ");\n",
       "\n",
       "// make sure new CodeMirror instance also use this setting\n",
       "CodeMirror.defaults.cursorBlinkRate=rate;"
      ],
      "text/plain": [
       "<IPython.core.display.Javascript at 0x3600890>"
      ]
     },
     "metadata": {},
     "output_type": "display_data"
    }
   ],
   "source": [
    "%%javascript\n",
    "var rate = 0;\n",
    "// apply setting to  all current CodeMirror instances\n",
    "IPython.notebook.get_cells().map(\n",
    "    function(c) {  return c.code_mirror.options.cursorBlinkRate=rate;  }\n",
    ");\n",
    "\n",
    "// make sure new CodeMirror instance also use this setting\n",
    "CodeMirror.defaults.cursorBlinkRate=rate;"
   ]
  },
  {
   "cell_type": "markdown",
   "id": "452edb25",
   "metadata": {},
   "source": [
    "I hope you enjoyed this little IPython customization detour. If you want more information about how to get rid of blinking in other programs you use every day, [here is an invaluable resource on that matter](http://www.jurta.org/en/prog/noblink).\n",
    "\n",
    "Remember, blinking in user interfaces is bad, [but blinking in vision is very important](http://www.brower.co.uk/opticians/blinking.html)."
   ]
  }
 ],
 "metadata": {
  "kernelspec": {
   "display_name": "Python 3 (ipykernel)",
   "language": "python",
   "name": "python3"
  },
  "language_info": {
   "codemirror_mode": {
    "name": "ipython",
    "version": 3
   },
   "file_extension": ".py",
   "mimetype": "text/x-python",
   "name": "python",
   "nbconvert_exporter": "python",
   "pygments_lexer": "ipython3",
   "version": "3.8.12"
  }
 },
 "nbformat": 4,
 "nbformat_minor": 1
}
