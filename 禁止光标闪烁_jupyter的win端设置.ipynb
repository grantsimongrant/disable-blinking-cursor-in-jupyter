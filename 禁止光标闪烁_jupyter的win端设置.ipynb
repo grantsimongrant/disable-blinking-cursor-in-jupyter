{
 "cells": [
  {
   "cell_type": "code",
   "execution_count": 17,
   "id": "23e9cac0",
   "metadata": {},
   "outputs": [
    {
     "data": {
      "text/plain": [
       "'C:\\\\Users\\\\grant\\\\.jupyter'"
      ]
     },
     "execution_count": 17,
     "metadata": {},
     "output_type": "execute_result"
    }
   ],
   "source": [
    "from jupyter_core.paths import jupyter_config_dir\n",
    "jupyter_dir = jupyter_config_dir()\n",
    "jupyter_dir"
   ]
  },
  {
   "cell_type": "code",
   "execution_count": 18,
   "id": "87dca485",
   "metadata": {},
   "outputs": [],
   "source": [
    "import os.path\n",
    "custom_js_path = os.path.join(jupyter_dir, 'custom', 'custom.js')\n",
    "custom_dir = os.path.join(jupyter_dir, 'custom')"
   ]
  },
  {
   "cell_type": "code",
   "execution_count": 19,
   "id": "41c5fefc",
   "metadata": {},
   "outputs": [
    {
     "name": "stdout",
     "output_type": "stream",
     "text": [
      "C:\\Users\\grant\\.jupyter\\custom\n"
     ]
    }
   ],
   "source": [
    "cd $custom_dir"
   ]
  },
  {
   "cell_type": "code",
   "execution_count": 20,
   "id": "a3474e36",
   "metadata": {},
   "outputs": [
    {
     "name": "stdout",
     "output_type": "stream",
     "text": [
      "\"var rate = 0;\" \n",
      "); \n",
      "\n"
     ]
    }
   ],
   "source": [
    "#  my custom js\n",
    "if os.path.isfile(custom_js_path):\n",
    "    with open(custom_js_path) as f:\n",
    "        print(f.read())\n",
    "else:\n",
    "    print(\"You don't have a custom.js file\")"
   ]
  },
  {
   "cell_type": "code",
   "execution_count": 21,
   "id": "ae7eb4d6",
   "metadata": {},
   "outputs": [],
   "source": [
    "!echo var rate = 0; > custom.js"
   ]
  },
  {
   "cell_type": "code",
   "execution_count": 22,
   "id": "f482a02c",
   "metadata": {},
   "outputs": [],
   "source": [
    "!echo // apply setting to  all current CodeMirror instances >> custom.js"
   ]
  },
  {
   "cell_type": "code",
   "execution_count": 23,
   "id": "e4eb5024",
   "metadata": {},
   "outputs": [],
   "source": [
    "!echo IPython.notebook.get_cells().map( >> custom.js"
   ]
  },
  {
   "cell_type": "code",
   "execution_count": 24,
   "id": "7cd0c18e",
   "metadata": {},
   "outputs": [],
   "source": [
    "!echo     function(c) {  return c.code_mirror.options.cursorBlinkRate=rate;  } >> custom.js"
   ]
  },
  {
   "cell_type": "code",
   "execution_count": 25,
   "id": "bddbbf1e",
   "metadata": {},
   "outputs": [],
   "source": [
    "!echo ); >> custom.js"
   ]
  },
  {
   "cell_type": "code",
   "execution_count": 26,
   "id": "bf08e16c",
   "metadata": {},
   "outputs": [],
   "source": [
    "!echo // make sure new CodeMirror instance also use this setting >> custom.js"
   ]
  },
  {
   "cell_type": "code",
   "execution_count": 27,
   "id": "561eb39e",
   "metadata": {},
   "outputs": [],
   "source": [
    "!echo CodeMirror.defaults.cursorBlinkRate=rate; >> custom.js"
   ]
  },
  {
   "cell_type": "code",
   "execution_count": 28,
   "id": "bad8b2e8",
   "metadata": {},
   "outputs": [
    {
     "name": "stdout",
     "output_type": "stream",
     "text": [
      "var rate = 0; \n",
      "// apply setting to  all current CodeMirror instances \n",
      "IPython.notebook.get_cells().map( \n",
      "    function(c) {  return c.code_mirror.options.cursorBlinkRate=rate;  } \n",
      "); \n",
      "// make sure new CodeMirror instance also use this setting \n",
      "CodeMirror.defaults.cursorBlinkRate=rate; \n",
      "\n"
     ]
    }
   ],
   "source": [
    "#  my custom js\n",
    "if os.path.isfile(custom_js_path):\n",
    "    with open(custom_js_path) as f:\n",
    "        print(f.read())\n",
    "else:\n",
    "    print(\"You don't have a custom.js file\")"
   ]
  },
  {
   "cell_type": "code",
   "execution_count": null,
   "id": "5a68ad58",
   "metadata": {},
   "outputs": [],
   "source": []
  }
 ],
 "metadata": {
  "kernelspec": {
   "display_name": "Python 3 (ipykernel)",
   "language": "python",
   "name": "python3"
  },
  "language_info": {
   "codemirror_mode": {
    "name": "ipython",
    "version": 3
   },
   "file_extension": ".py",
   "mimetype": "text/x-python",
   "name": "python",
   "nbconvert_exporter": "python",
   "pygments_lexer": "ipython3",
   "version": "3.8.12"
  }
 },
 "nbformat": 4,
 "nbformat_minor": 5
}
